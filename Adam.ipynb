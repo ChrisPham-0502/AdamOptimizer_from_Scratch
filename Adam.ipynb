{
 "cells": [
  {
   "cell_type": "code",
   "execution_count": 1,
   "metadata": {},
   "outputs": [],
   "source": [
    "import torch\n",
    "import torch.nn as nn\n",
    "from torch.optim.optimizer import Optimizer\n",
    "from torchvision.datasets import FashionMNIST\n",
    "from torchvision.transforms import ToTensor\n",
    "from torch.utils.data import DataLoader\n"
   ]
  },
  {
   "cell_type": "code",
   "execution_count": 2,
   "metadata": {},
   "outputs": [],
   "source": [
    "\n",
    "# Load Fashion MNIST dataset\n",
    "train_dataset = FashionMNIST(root='./data', train=True, download=True, transform=ToTensor())\n",
    "test_dataset = FashionMNIST(root='./data', train=False, download=True, transform=ToTensor())\n",
    "\n",
    "# Create data loaders\n",
    "train_loader = DataLoader(train_dataset, batch_size=64, shuffle=True)\n",
    "test_loader = DataLoader(test_dataset, batch_size=64, shuffle=False)\n",
    "\n",
    "# Define the model\n",
    "class FashionMNISTModel(nn.Module):\n",
    "    def __init__(self):\n",
    "        super(FashionMNISTModel, self).__init__()\n",
    "        self.flatten = nn.Flatten()\n",
    "        self.fc1 = nn.Linear(28 * 28, 128)\n",
    "        self.fc2 = nn.Linear(128, 10)\n",
    "        self.dropout = nn.Dropout(0.2)\n",
    "\n",
    "    def forward(self, x):\n",
    "        x = self.flatten(x)\n",
    "        x = self.fc1(x)\n",
    "        x = nn.functional.relu(x)\n",
    "        x = self.dropout(x)\n",
    "        x = self.fc2(x)\n",
    "        return nn.functional.softmax(x, dim=1)\n",
    "\n",
    "# Create the model instance\n",
    "model = FashionMNISTModel()\n"
   ]
  },
  {
   "cell_type": "code",
   "execution_count": 3,
   "metadata": {},
   "outputs": [],
   "source": [
    "\n",
    "# Define the custom Adam optimizer\n",
    "class AdamOptimizer(Optimizer):\n",
    "    def __init__(self, params, lr=0.001, betas=(0.9, 0.999), eps=1e-8):\n",
    "        defaults = dict(lr=lr, betas=betas, eps=eps)\n",
    "        super(AdamOptimizer, self).__init__(params, defaults)\n",
    "\n",
    "    def step(self, closure=None):\n",
    "        for group in self.param_groups:\n",
    "            for p in group['params']:\n",
    "                if p.grad is None:  # Check the grad of parameter is exist\n",
    "                    continue\n",
    "                grad = p.grad.data\n",
    "                state = self.state[p]\n",
    "\n",
    "                if 'step' not in state:\n",
    "                    state['step'] = 0\n",
    "                if 'm' not in state:\n",
    "                    state['m'] = torch.zeros_like(p.data)\n",
    "                if 'v' not in state:\n",
    "                    state['v'] = torch.zeros_like(p.data)\n",
    "\n",
    "                m = state['m']\n",
    "                v = state['v']\n",
    "                beta1, beta2 = group['betas']\n",
    "                eps = group['eps']\n",
    "                state['step'] += 1\n",
    "\n",
    "                m.mul_(beta1).add_(1 - beta1, grad)\n",
    "                v.mul_(beta2).addcmul_(1 - beta2, grad, grad)\n",
    "\n",
    "                bias_correction1 = 1 - beta1 ** state['step']\n",
    "                bias_correction2 = 1 - beta2 ** state['step']\n",
    "                lr = group['lr'] * (bias_correction2 ** 0.5) / bias_correction1\n",
    "\n",
    "                p.data.addcdiv_(-lr, m, v.sqrt().add_(eps))\n"
   ]
  },
  {
   "cell_type": "code",
   "execution_count": 4,
   "metadata": {},
   "outputs": [
    {
     "name": "stderr",
     "output_type": "stream",
     "text": [
      "C:\\Users\\Admin\\AppData\\Local\\Temp\\ipykernel_15212\\3729772322.py:28: UserWarning: This overload of add_ is deprecated:\n",
      "\tadd_(Number alpha, Tensor other)\n",
      "Consider using one of the following signatures instead:\n",
      "\tadd_(Tensor other, *, Number alpha) (Triggered internally at C:\\actions-runner\\_work\\pytorch\\pytorch\\builder\\windows\\pytorch\\torch\\csrc\\utils\\python_arg_parser.cpp:1485.)\n",
      "  m.mul_(beta1).add_(1 - beta1, grad)\n"
     ]
    },
    {
     "name": "stdout",
     "output_type": "stream",
     "text": [
      "Epoch 1/10------------> Loss: 1.6744211912155151\n",
      "Epoch 2/10------------> Loss: 1.6485497951507568\n",
      "Epoch 3/10------------> Loss: 1.8048733472824097\n",
      "Epoch 4/10------------> Loss: 1.8047927618026733\n",
      "Epoch 5/10------------> Loss: 1.5884759426116943\n",
      "Epoch 6/10------------> Loss: 1.648650050163269\n",
      "Epoch 7/10------------> Loss: 1.6798999309539795\n",
      "Epoch 8/10------------> Loss: 1.6799001693725586\n",
      "Epoch 9/10------------> Loss: 1.8048882484436035\n",
      "Epoch 10/10------------> Loss: 1.5861531496047974\n"
     ]
    }
   ],
   "source": [
    "\n",
    "# Create the optimizer instance\n",
    "optimizer = AdamOptimizer(model.parameters(), lr=0.01)\n",
    "\n",
    "# Define the loss function (CrossEntropyLoss)\n",
    "criterion = nn.CrossEntropyLoss()\n",
    "\n",
    "# Training loop\n",
    "num_epochs = 10\n",
    "\n",
    "for epoch in range(num_epochs):\n",
    "    model.train()\n",
    "    for images, labels in train_loader:\n",
    "        # Zero the gradients\n",
    "        optimizer.zero_grad()\n",
    "\n",
    "        # Forward pass\n",
    "        outputs = model(images)\n",
    "        loss = criterion(outputs, labels)\n",
    "\n",
    "        # Backward pass and optimization\n",
    "        loss.backward()\n",
    "        optimizer.step()\n",
    "\n",
    "    # Print the loss after every epoch\n",
    "    print(f\"Epoch {epoch+1}/{num_epochs}------------> Loss: {loss.item()}\")\n",
    "\n",
    "# Evaluation\n",
    "model.eval()\n",
    "total_correct = 0\n",
    "total_samples = 0\n",
    "\n",
    "with torch.no_grad():\n",
    "    for images, labels in test_loader:\n",
    "        outputs = model(images)\n",
    "        _, predicted = torch.max(outputs.data, 1)\n",
    "        total_samples += labels.size(0)\n",
    "        total_correct += (predicted == labels).sum().item()\n"
   ]
  },
  {
   "cell_type": "code",
   "execution_count": 5,
   "metadata": {},
   "outputs": [
    {
     "name": "stdout",
     "output_type": "stream",
     "text": [
      "Test Accuracy: 0.7921\n"
     ]
    }
   ],
   "source": [
    "accuracy = total_correct / total_samples\n",
    "print(f\"Test Accuracy: {accuracy}\")"
   ]
  }
 ],
 "metadata": {
  "kernelspec": {
   "display_name": "Python 3",
   "language": "python",
   "name": "python3"
  },
  "language_info": {
   "codemirror_mode": {
    "name": "ipython",
    "version": 3
   },
   "file_extension": ".py",
   "mimetype": "text/x-python",
   "name": "python",
   "nbconvert_exporter": "python",
   "pygments_lexer": "ipython3",
   "version": "3.9.13"
  },
  "orig_nbformat": 4
 },
 "nbformat": 4,
 "nbformat_minor": 2
}
